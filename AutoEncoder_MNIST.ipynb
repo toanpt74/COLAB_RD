{
  "cells": [
    {
      "cell_type": "markdown",
      "metadata": {
        "id": "view-in-github",
        "colab_type": "text"
      },
      "source": [
        "<a href=\"https://colab.research.google.com/github/toanpt74/COLAB_RD/blob/main/AutoEncoder_MNIST.ipynb\" target=\"_parent\"><img src=\"https://colab.research.google.com/assets/colab-badge.svg\" alt=\"Open In Colab\"/></a>"
      ]
    },
    {
      "cell_type": "code",
      "source": [
        "from google.colab import drive\n",
        "drive.mount('/content/drive')"
      ],
      "metadata": {
        "colab": {
          "base_uri": "https://localhost:8080/"
        },
        "id": "eEukNkjRvcMO",
        "outputId": "fc6ce3b1-c2cc-4e33-dcb8-307c757e5ad0"
      },
      "execution_count": 1,
      "outputs": [
        {
          "output_type": "stream",
          "name": "stdout",
          "text": [
            "Mounted at /content/drive\n"
          ]
        }
      ]
    },
    {
      "cell_type": "code",
      "source": [
        "import tensorflow as tf\n",
        "from tensorflow.keras import layers\n",
        "from tensorflow.keras import backend as K\n",
        "from tensorflow import keras\n",
        "import numpy as np\n",
        "import random\n",
        "import os\n",
        "from matplotlib import pyplot as plt\n",
        "os.environ['CUDA_VISIBLE_DEVICES'] = '1'\n",
        "print(tf.test.is_gpu_available())  # prints True\n",
        "print(tf.__version__)  # prints '2.0.0-beta1'\n",
        "\n",
        "batch_size = 32\n",
        "latent_dim = 32\n",
        "ROW = 28 #width\n",
        "COL = 28 #height\n",
        "\n",
        "input_shape=(ROW, COL, 1)\n",
        "epochs=101\n",
        "AUTO = tf.data.experimental.AUTOTUNE\n",
        "\n",
        "def encoder(encoder_inputs):\n",
        "    #Block 1\n",
        "    x = layers.Conv2D(32, kernel_size=3, strides=1, padding='same')(encoder_inputs)\n",
        "    x = layers.BatchNormalization()(x)\n",
        "    x = layers.LeakyReLU()(x)\n",
        "\n",
        "    # Block 2\n",
        "    x = layers.Conv2D(64, kernel_size=3, strides=2, padding='same')(x)\n",
        "    x = layers.BatchNormalization()(x)\n",
        "    x = layers.LeakyReLU()(x)\n",
        "\n",
        "    # Block 3\n",
        "    x = layers.Conv2D(64, 3, 2, padding='same')(x)\n",
        "    x = layers.BatchNormalization()(x)\n",
        "    x = layers.LeakyReLU()(x)\n",
        "\n",
        "    # Block 4\n",
        "    x = layers.Conv2D(64, 3, 1, padding='same')(x)\n",
        "    x = layers.BatchNormalization()(x)\n",
        "    y = layers.BatchNormalization()(x)\n",
        "    x = layers.LeakyReLU()(x)\n",
        "\n",
        "    # Final Block\n",
        "    flatten = layers.Flatten()(x)\n",
        "    bottleneck = layers.Dense(16)(flatten)\n",
        "    return bottleneck, y.shape\n",
        "\n",
        "\n",
        "def decoder(x, conv_shape):\n",
        "    units = conv_shape[1] * conv_shape[2] * conv_shape[3]\n",
        "\n",
        "    x = layers.Dense(units)(x)\n",
        "    x = layers.Reshape((conv_shape[1], conv_shape[2], conv_shape[3]))(x)\n",
        "\n",
        "    # Block 1\n",
        "    x = layers.Conv2DTranspose(64, 3, strides=1, padding='same')(x)\n",
        "    x = layers.BatchNormalization()(x)\n",
        "    x = layers.LeakyReLU()(x)\n",
        "\n",
        "    # Block 2\n",
        "    x = layers.Conv2DTranspose(64, 3, strides=2, padding='same')(x)\n",
        "    x = layers.BatchNormalization()(x)\n",
        "    x = layers.LeakyReLU()(x)\n",
        "    # Block-3\n",
        "    x = layers.Conv2DTranspose(filters=64, kernel_size=3, strides=2, padding='same', activation='relu')(x)\n",
        "    x = layers.BatchNormalization()(x)\n",
        "    # Block 4\n",
        "    x = layers.Conv2DTranspose(32, 3, 1, padding='same')(x)\n",
        "    x = layers.BatchNormalization()(x)\n",
        "    x = layers.LeakyReLU()(x)\n",
        "\n",
        "    # Block 4\n",
        "    decoder_outputs = layers.Conv2DTranspose(1, 3, 1, padding='same', activation='sigmoid', name='conv_transpose_4')(x)\n",
        "\n",
        "    return decoder_outputs\n",
        "\n",
        "\n",
        "\n",
        "\n",
        "\n",
        "inputs = keras.Input(shape=input_shape)\n",
        "encoder_inputs, cov_shape = encoder(inputs)\n",
        "decoder_outputs = decoder(encoder_inputs, cov_shape)\n",
        "model = keras.Model(inputs,[decoder_outputs])\n",
        "model.summary()\n",
        "\n",
        "def ssim(input_img, output_img):\n",
        "    return 1 - tf.reduce_mean(tf.image.ssim(input_img, tf.cast(output_img, tf.float64), max_val=1))\n",
        "\n",
        "def loss(preds, real):\n",
        "    #return 1 - tf.reduce_mean(tf.image.ssim(real, tf.cast(preds, tf.float64), max_val=1))\n",
        "    return tf.reduce_mean(tf.square(tf.subtract(preds, real)))\n",
        "\n",
        "optimizer = tf.keras.optimizers.Adam(lr=0.001)\n",
        "objective = tf.keras.losses.SparseCategoricalCrossentropy()\n",
        "\n",
        "(x_train, _), (x_test, _) = keras.datasets.mnist.load_data()\n",
        "x_train = x_train.astype(\"float32\") / 255\n",
        "\n",
        "num_samples = x_train.shape[0]\n",
        "model_path =r'E:\\ToanPT\\1.Code_train_Unet\\models'\n",
        "\n",
        "def train_step(data):\n",
        "    with tf.GradientTape() as tape:\n",
        "        reconstruction = model(data, training=True)\n",
        "        total_loss = loss(reconstruction, data)\n",
        "\n",
        "    grads = tape.gradient(total_loss, model.trainable_variables)\n",
        "    optimizer.apply_gradients(zip(grads, model.trainable_variables))\n",
        "    return total_loss\n",
        "\n",
        "for epoch in range(epochs):\n",
        "    for step in range(num_samples // batch_size):\n",
        "        s = step * batch_size\n",
        "        e = s + batch_size\n",
        "        x_batch = x_train[s:e, :, :, tf.newaxis]\n",
        "        total_loss = train_step(x_batch)\n",
        "        print(\"-----------------\")\n",
        "        print(f\"epoch: {epoch} step: {step}\")\n",
        "        print(f\"total_loss: {total_loss}\")\n",
        "    if epoch % 5 == 0:\n",
        "       model.save(f'E:\\\\ToanPT\\\\1.Code_train_Unet\\\\models\\\\autoencoder_{epoch}__{total_loss}', save_format=\"tf\")\n",
        "\n",
        "\n",
        "#model = tf.keras.models.load_model(r'E:\\ToanPT\\1.Code_train_Unet\\models\\autoencoder_100__0.004905893001705408')\n"
      ],
      "metadata": {
        "id": "pqaJdfeiwFnx"
      },
      "execution_count": null,
      "outputs": []
    }
  ],
  "metadata": {
    "colab": {
      "name": "Welcome To Colab",
      "provenance": [],
      "gpuType": "T4",
      "include_colab_link": true
    },
    "kernelspec": {
      "display_name": "Python 3",
      "name": "python3"
    },
    "accelerator": "GPU"
  },
  "nbformat": 4,
  "nbformat_minor": 0
}