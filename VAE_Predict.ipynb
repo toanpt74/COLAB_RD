{
  "cells": [
    {
      "cell_type": "markdown",
      "metadata": {
        "id": "view-in-github",
        "colab_type": "text"
      },
      "source": [
        "<a href=\"https://colab.research.google.com/github/toanpt74/COLAB_RD/blob/main/VAE_Predict.ipynb\" target=\"_parent\"><img src=\"https://colab.research.google.com/assets/colab-badge.svg\" alt=\"Open In Colab\"/></a>"
      ]
    },
    {
      "cell_type": "code",
      "source": [
        "import os\n",
        "os.environ['TF_CPP_MIN_LOG_LEVEL'] = '3'\n",
        "os.environ['CUDA_VISIBLE_DEVICES'] = '-1'\n",
        "import tensorflow as tf\n",
        "tf.keras.backend.clear_session()\n",
        "from glob import glob\n",
        "import cv2\n",
        "import matplotlib.pyplot as plt\n",
        "import numpy as np\n",
        "import shutil\n",
        "\n",
        "\"\"\"\n",
        "Setup paprameters\n",
        "\"\"\"\n",
        "# tf.random.set_seed(42)\n",
        "\n",
        "dir=r'E:\\PIC\\__RESIZE'\n",
        "dir_predict =dir+\"\\Test_predict\"\n",
        "\n",
        "\n",
        "#\n",
        "# re_dir=dir+\"_Mapping\"\n",
        "# if not os.path.exists(re_dir):\n",
        "#     os.makedirs(re_dir)\n",
        "files = glob(dir+\"\\\\*.bmp\")\n",
        "vae = tf.keras.models.load_model(r'G:\\Toa\\autoProj\\SVI_REAR_221029\\LINE_SCAN_VENH_RIGHT_L_496x32_221029\\LINE_SCAN_VENH_RIGHT_L_496x32_25000__3.126014471054077')\n",
        "COL = 496 #width\n",
        "ROW = 32 #height\n",
        "\n",
        "def checkpatch(split,display=True, name=None):\n",
        "\n",
        "    RESULT=True     #--->OK\n",
        "    threshold = 0.1\n",
        "    x = split.astype('float32') / 255.0\n",
        "    vae_img = x.reshape((1, COL, ROW, 1))\n",
        "\n",
        "    x_recon = vae.predict(vae_img)\n",
        "    x_recon=x_recon.reshape(ROW,COL)\n",
        "\n",
        "    config = vae.get_config()  # Returns pretty much every information about your model\n",
        "    print(config[\"layers\"][0][\"config\"][\"batch_input_shape\"])\n",
        "\n",
        "    print(vae_img.shape)\n",
        "    print(x_recon.shape)\n",
        "    feature_score = np.power(x-x_recon,2)\n",
        "    outlier_map=np.where(feature_score<threshold,0,255)\n",
        "\n",
        "    count_gray = np.count_nonzero(outlier_map)\n",
        "    print(\"count_gray: \", count_gray)\n",
        "\n",
        "    outlier_map255=outlier_map.astype('uint8')\n",
        "\n",
        "    # kernel = np.ones((3, 3), np.uint8)\n",
        "    # # dilate=cv2.dilate(outlier_map255,kernel)\n",
        "    # # erode=cv2.erode(dilate,kernel)\n",
        "    # morpho=cv2.morphologyEx(outlier_map255, cv2.MORPH_OPEN, kernel)\n",
        "    _, thresh = cv2.threshold(outlier_map255, 20, 255, cv2.THRESH_BINARY)\n",
        "    contours, _ = cv2.findContours(thresh, cv2.RETR_TREE, cv2.CHAIN_APPROX_SIMPLE)\n",
        "    outcnt = [cnt for cnt in contours if (cv2.contourArea(cnt) > 10)]\n",
        "\n",
        "    #\n",
        "    # # print(f'x={np.max(x)},,vae_img={np.max(vae_img)},x_recon={np.max(x_recon)},feature_map={np.max(feature_score)}')\n",
        "    # # print(f'outlier_map255={np.max(outlier_map255)},morpho={np.max(morpho)},color_x={np.max(color_x)}')\n",
        "    #\n",
        "    if outcnt:\n",
        "        RESULT = False\n",
        "\n",
        "    # if name=='DOT1b':\n",
        "    #     display=True\n",
        "    if display:\n",
        "        fig, axes = plt.subplots(2, 4, figsize=(8, 4))\n",
        "        axes[0, 0].imshow(x*255, cmap='gray',vmin=0,vmax=255)\n",
        "        axes[0, 0].set_title('Input image')\n",
        "        axes[0, 1].imshow(x_recon*255, cmap='gray',vmin=0,vmax=255)\n",
        "        axes[0, 1].set_title('Reconstruction')\n",
        "        axes[0, 2].imshow(feature_score)\n",
        "        axes[0, 2].set_title('Error')\n",
        "        axes[0, 3].imshow(outlier_map)\n",
        "        axes[0, 3].set_title('outlier map')\n",
        "\n",
        "        # axes[1,0].imshow(outlier_map255)\n",
        "        # axes[1,0].set_title('Error G255')\n",
        "        # axes[1,1].imshow(morpho,cmap='gray')\n",
        "        # axes[1,1].set_title('Morpho')\n",
        "        # axes[1,2].imshow(thresh)\n",
        "        # axes[1,2].set_title('Threshold')\n",
        "        # axes[1, 3].imshow(color_x)\n",
        "        # axes[1, 3].set_title('Mapping')\n",
        "    plt.show()\n",
        "    return RESULT\n",
        "\n",
        "import time\n",
        "for file in files:\n",
        "    start=time.time()\n",
        "    img = cv2.imread(file,0)\n",
        "    # img=cv2.copyMakeBorder(img,0,1,0,1,borderType=cv2.BORDER_REPLICATE)\n",
        "    # imgRGB=cv2.cvtColor(img,cv2.COLOR_GRAY2RGB)\n",
        "    # kernel=cv2.getStructuringElement(cv2.MORPH_RECT,ksize=(7,7))\n",
        "    # img=cv2.dilate(img,kernel=kernel,iterations=3)\n",
        "    # basename=os.path.basename(file)\n",
        "    # print(basename)\n",
        "    # name = basename.rsplit('.',1)[0]\n",
        "\n",
        "\n",
        "    RE=checkpatch(img,display=False)\n",
        "\n",
        "    if not os.path.exists(dir_predict):\n",
        "        os.makedirs(dir_predict)\n",
        "\n",
        "    if RE:\n",
        "        path_save = os.path.join(dir_predict, \"OK\")\n",
        "        if not os.path.exists(path_save):\n",
        "            os.makedirs(path_save)\n",
        "        shutil.copyfile(file, path_save + \"\\\\\" + file.split(\"\\\\\")[-1])\n",
        "    else:\n",
        "        path_save = os.path.join(dir_predict, \"NG\")\n",
        "        if not os.path.exists(path_save):\n",
        "            os.makedirs(path_save)\n",
        "        shutil.copyfile(file, path_save + \"\\\\\" + file.split(\"\\\\\")[-1])\n",
        "\n",
        "        # if not RE:\n",
        "        #     cv2.rectangle(imgRGB, (w_size, h_size), (w_size + split_size, h_size + split_size), (0, 0, 255), 2)\n",
        "\n",
        "    # os.chdir(re_dir)\n",
        "    # cv2.imwrite(f'MAPPING_{basename}',imgRGB)\n",
        "    print(f\"Tact time: {time.time()-start}\")\n",
        "    tf.keras.backend.clear_session() ##importance\n",
        "\n",
        "print('DONE')\n"
      ],
      "metadata": {
        "id": "JKHwOvJxl0Lh"
      },
      "execution_count": null,
      "outputs": []
    },
    {
      "cell_type": "code",
      "source": [],
      "metadata": {
        "id": "t4RckuC1l0b-"
      },
      "execution_count": null,
      "outputs": []
    },
    {
      "cell_type": "code",
      "source": [],
      "metadata": {
        "id": "Y3L8d3zMl0fT"
      },
      "execution_count": null,
      "outputs": []
    },
    {
      "cell_type": "code",
      "source": [],
      "metadata": {
        "id": "rn97yjzLl0ig"
      },
      "execution_count": null,
      "outputs": []
    },
    {
      "cell_type": "code",
      "source": [],
      "metadata": {
        "id": "9Vp7SXWgl0l1"
      },
      "execution_count": null,
      "outputs": []
    },
    {
      "cell_type": "code",
      "source": [],
      "metadata": {
        "id": "yyNm0RXWl0o-"
      },
      "execution_count": null,
      "outputs": []
    },
    {
      "cell_type": "code",
      "source": [],
      "metadata": {
        "id": "KcRyqd1Zl0sc"
      },
      "execution_count": null,
      "outputs": []
    }
  ],
  "metadata": {
    "colab": {
      "name": "Welcome To Colab",
      "toc_visible": true,
      "provenance": [],
      "include_colab_link": true
    },
    "kernelspec": {
      "display_name": "Python 3",
      "name": "python3"
    }
  },
  "nbformat": 4,
  "nbformat_minor": 0
}