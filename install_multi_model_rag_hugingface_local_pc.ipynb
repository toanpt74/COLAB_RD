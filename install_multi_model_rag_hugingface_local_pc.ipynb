{
  "cells": [
    {
      "cell_type": "markdown",
      "metadata": {
        "id": "view-in-github",
        "colab_type": "text"
      },
      "source": [
        "<a href=\"https://colab.research.google.com/github/toanpt74/COLAB_RD/blob/main/install_multi_model_rag_hugingface_local_pc.ipynb\" target=\"_parent\"><img src=\"https://colab.research.google.com/assets/colab-badge.svg\" alt=\"Open In Colab\"/></a>"
      ]
    },
    {
      "cell_type": "code",
      "source": [
        "========================================Element PDF offline local\n",
        "D:\\9.Python\\Python311_Gpt\\Lib\\site-packages\\transformers\\modeling_utils.py → local_files_only: bool = True, # add by fpm\n",
        "D:\\9.Python\\Python311_Gpt\\Lib\\site-packages\\unstructured_inference\\models\\yolox.py → r\"C:\\Users\\tung.fpm\\.cache\\huggingface\\hub\\models--unstructuredio--yolo_x_layout\\snapshots\\2d74dcd1432f37c7141ce0a37f6eed085f34c420\", #add by fpm\n",
        "D:\\9.Python\\Python311_Gpt\\Lib\\site-packages\\timm\\models\\_builder.py →\n",
        "\t# add by fpm\n",
        "    load_from = 'file'\n",
        "    pretrained_loc = r'C:\\Users\\tung.fpm\\.cache\\huggingface\\hub\\models--timm--resnet18.a1_in1k\\snapshots\\ebd61f9c7420e5b5b53262b8ce6bbe311e1e872a\\model.safetensors'\n",
        "    # add by fpm - end"
      ],
      "metadata": {
        "id": "k42xUtkWzo7m"
      },
      "execution_count": null,
      "outputs": []
    }
  ],
  "metadata": {
    "colab": {
      "name": "Welcome To Colab",
      "toc_visible": true,
      "provenance": [],
      "include_colab_link": true
    },
    "kernelspec": {
      "display_name": "Python 3",
      "name": "python3"
    }
  },
  "nbformat": 4,
  "nbformat_minor": 0
}